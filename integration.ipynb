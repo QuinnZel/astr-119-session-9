{
 "cells": [
  {
   "cell_type": "markdown",
   "id": "cb040623",
   "metadata": {},
   "source": [
    "# Implement different integration schemes"
   ]
  },
  {
   "cell_type": "code",
   "execution_count": null,
   "id": "767ad532",
   "metadata": {},
   "outputs": [],
   "source": [
    "%matplotlib inline\n",
    "import numpy as np\n",
    "import matplotlib.pyplot as plt"
   ]
  },
  {
   "cell_type": "markdown",
   "id": "b8f8a5e4",
   "metadata": {},
   "source": [
    "# Define a function to integrate"
   ]
  },
  {
   "cell_type": "code",
   "execution_count": null,
   "id": "5b49b7b9",
   "metadata": {},
   "outputs": [],
   "source": [
    "def func(x):\n",
    "    a = 1.01\n",
    "    b = -3.04\n",
    "    c = 2.07\n",
    "    return a*x**2 + b*x + c"
   ]
  },
  {
   "cell_type": "markdown",
   "id": "a5d781ff",
   "metadata": {},
   "source": [
    "### define it's integral so we know the right answer"
   ]
  },
  {
   "cell_type": "code",
   "execution_count": null,
   "id": "b928b474",
   "metadata": {},
   "outputs": [],
   "source": [
    "def func_integral(x):\n",
    "    a = 1.01\n",
    "    b = -3.04\n",
    "    c = 2.07\n",
    "    return (a*x**3)/3 + (b*x**2)/2 + c*x"
   ]
  },
  {
   "cell_type": "markdown",
   "id": "ab958e5f",
   "metadata": {},
   "source": [
    "## define the core of the trapezoid method"
   ]
  },
  {
   "cell_type": "code",
   "execution_count": null,
   "id": "6f8a5fae",
   "metadata": {},
   "outputs": [],
   "source": [
    "def trapezoid_core(f,x,h):\n",
    "    return 0.5*h*(f(x+h) + f(x))"
   ]
  },
  {
   "cell_type": "markdown",
   "id": "562b819e",
   "metadata": {},
   "source": [
    "## define a wrapper function to perform trapzoid method"
   ]
  },
  {
   "cell_type": "code",
   "execution_count": null,
   "id": "a16079f7",
   "metadata": {},
   "outputs": [],
   "source": [
    "def trapezoid_method(f,a,b,N):\n",
    "    # f - function to integrate\n",
    "    # a - lower limit of integration\n",
    "    # b - upper limit of integration\n",
    "    # N - number of function evalutions to use\n",
    "    \n",
    "    # define x values to perform trapezoid rule\n",
    "    x = np.linspace(a,b,N)\n",
    "    h = x[1]-x[0]\n",
    "    \n",
    "    # define the value of the integral\n",
    "    Fint = 0.0\n",
    "    \n",
    "    # perform the integral using the trapezoid method\n",
    "    for i in range(0,len(x)-1,1):\n",
    "        Fint += trapezoid_core(f,x[i],h)\n",
    "    \n",
    "    #return the answer\n",
    "    return Fint"
   ]
  },
  {
   "cell_type": "markdown",
   "id": "2522f1a8",
   "metadata": {},
   "source": [
    "# define the core of Simpson's Method"
   ]
  },
  {
   "cell_type": "code",
   "execution_count": null,
   "id": "dd7ee9f9",
   "metadata": {},
   "outputs": [],
   "source": [
    "def simpson_core(f,x,h):\n",
    "    return h * ( f(x) + 4*f(x+h) + f(x+2*h))/3."
   ]
  },
  {
   "cell_type": "markdown",
   "id": "07556309",
   "metadata": {},
   "source": [
    "# define a wrapper for simpson's method"
   ]
  },
  {
   "cell_type": "code",
   "execution_count": null,
   "id": "519b057e",
   "metadata": {},
   "outputs": [],
   "source": [
    "def simpsons_method(f,a,b,N):\n",
    "    # f - function to integrate\n",
    "    # a - lower limit of integration\n",
    "    # b - upper limit of integration\n",
    "    # N - number of function evalutions to use\n",
    "    # note the number of chunks will be N-1\n",
    "    # so if N is odd, then we don't need to adjust the last segment\n",
    "    \n",
    "    # define x values to perform trapezoid rule\n",
    "    x = np.linspace(a,b,N)\n",
    "    h = x[1]-x[0]\n",
    "    \n",
    "    # define the value of the integral\n",
    "    Fint = 0.0\n",
    "    \n",
    "    # perform the integral using the Simpson's method\n",
    "    for i in range(0,len(x)-2,2):\n",
    "        Fint += simpson_core(f,x[i],h)\n",
    "    \n",
    "    # apply simpson's rule over the last interval if N is even\n",
    "    if((N%2)==0):\n",
    "        Fint += simpson_core(f,x[-2],0.5*h)\n",
    "        \n",
    "    #return the answer\n",
    "    return Fint"
   ]
  },
  {
   "cell_type": "markdown",
   "id": "92e00e8d",
   "metadata": {},
   "source": [
    "# Check our answer"
   ]
  },
  {
   "cell_type": "code",
   "execution_count": null,
   "id": "14b9a21c",
   "metadata": {},
   "outputs": [],
   "source": [
    "Answer = func_integral(1)-func_integral(0)\n",
    "print(Answer)\n",
    "print(\"Trapezoid\")\n",
    "print(trapezoid_method(func,0,1,10))\n",
    "print(\"Simpson's Method\")\n",
    "print(simpsons_method(func,0,1,10))"
   ]
  }
 ],
 "metadata": {
  "kernelspec": {
   "display_name": "Python 3 (ipykernel)",
   "language": "python",
   "name": "python3"
  },
  "language_info": {
   "codemirror_mode": {
    "name": "ipython",
    "version": 3
   },
   "file_extension": ".py",
   "mimetype": "text/x-python",
   "name": "python",
   "nbconvert_exporter": "python",
   "pygments_lexer": "ipython3",
   "version": "3.9.7"
  }
 },
 "nbformat": 4,
 "nbformat_minor": 5
}
